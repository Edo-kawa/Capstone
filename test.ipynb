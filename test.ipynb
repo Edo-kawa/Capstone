{
 "cells": [
  {
   "cell_type": "code",
   "execution_count": 189,
   "metadata": {},
   "outputs": [],
   "source": [
    "def compress(uncompressed = 'bananabandan'):\n",
    "    ## step 1: initial dictionary\n",
    "    init_dic = {'a': 'a',\n",
    "                'b': 'b',\n",
    "                'd': 'd',\n",
    "                'n': 'n'}\n",
    "\n",
    "    ## step 2: compressing and updating dictionary\n",
    "    dictionary = init_dic\n",
    "    previous_str = \"\"\n",
    "    compressed_result = []\n",
    "    for current_char in uncompressed:\n",
    "        pre_cur = previous_str + current_char\n",
    "\n",
    "        if pre_cur in dictionary:\n",
    "            previous_str = pre_cur\n",
    "        else:\n",
    "            ## step 2.1: getting compressed code for previous str\n",
    "            previous_str_code = dictionary[previous_str]\n",
    "            compressed_result.append(previous_str_code)\n",
    "\n",
    "            ## step 2.2: updating the dictionary.\n",
    "            dictionary[pre_cur] = len(dictionary)\n",
    "            previous_str = current_char\n",
    "\n",
    "    ## getting compressed code for the last previous str\n",
    "    compressed_result.append(dictionary[previous_str])\n",
    "\n",
    "    print(dictionary)\n",
    "    return compressed_result\n",
    "\n",
    "\n",
    "def decompress(compressed):\n",
    "    ## init dictionary\n",
    "    init_dic = {'a': 'a',\n",
    "                'b': 'b',\n",
    "                'd': 'd',\n",
    "                'n': 'n'}\n",
    "\n",
    "    dictionary = init_dic\n",
    "    prev_code = decompress_result = compressed.pop(0)\n",
    "    for curr_code in compressed:\n",
    "\n",
    "        ## decompressed\n",
    "        if curr_code in dictionary:\n",
    "            curr_code_decomp = dictionary[curr_code]\n",
    "        elif curr_code == len(init_dic):\n",
    "            curr_code_decomp = prev_code + prev_code[0]\n",
    "        else:\n",
    "            raise ValueError('Bad compressed code: %s' % curr_code)\n",
    "        decompress_result += curr_code_decomp\n",
    "\n",
    "        ## updating dictionary\n",
    "        dictionary[len(dictionary)] = prev_code + curr_code_decomp[0]\n",
    "        prev_code = curr_code_decomp\n",
    "\n",
    "    print(dictionary)\n",
    "    return decompress_result"
   ]
  },
  {
   "cell_type": "code",
   "execution_count": 190,
   "metadata": {},
   "outputs": [
    {
     "name": "stdout",
     "output_type": "stream",
     "text": [
      "{'a': 'a', 'b': 'b', 'd': 'd', 'n': 'n', 'ba': 4, 'an': 5, 'na': 6, 'ana': 7, 'ab': 8, 'ban': 9, 'nd': 10, 'da': 11}\n"
     ]
    },
    {
     "data": {
      "text/plain": [
       "['b', 'a', 'n', 5, 'a', 4, 'n', 'd', 5]"
      ]
     },
     "execution_count": 190,
     "metadata": {},
     "output_type": "execute_result"
    }
   ],
   "source": [
    "# bananabandan\n",
    "compress()"
   ]
  },
  {
   "cell_type": "code",
   "execution_count": 4,
   "metadata": {},
   "outputs": [],
   "source": [
    "import numpy as np\n",
    "\n",
    "b = np.array(a)"
   ]
  },
  {
   "cell_type": "code",
   "execution_count": 192,
   "metadata": {},
   "outputs": [
    {
     "data": {
      "text/plain": [
       "27.666666666666668"
      ]
     },
     "execution_count": 192,
     "metadata": {},
     "output_type": "execute_result"
    }
   ],
   "source": [
    "(1.5**2+2.5**2+3.5**2)/(0.5**2+0.5**2+0.5**2)"
   ]
  },
  {
   "cell_type": "code",
   "execution_count": 50,
   "metadata": {},
   "outputs": [],
   "source": [
    "a = [0, 1, 2, 3, 4, 99, 100]\n",
    "b = [100, 11, 123, 145, 1, 9, 10]"
   ]
  },
  {
   "cell_type": "code",
   "execution_count": 51,
   "metadata": {},
   "outputs": [],
   "source": [
    "a = np.asarray(a)\n",
    "b = np.asarray(b)"
   ]
  },
  {
   "cell_type": "code",
   "execution_count": 52,
   "metadata": {},
   "outputs": [
    {
     "data": {
      "text/plain": [
       "array([ 0.        ,  0.09090909,  0.01626016,  0.02068966,  4.        ,\n",
       "       11.        , 10.        ])"
      ]
     },
     "execution_count": 52,
     "metadata": {},
     "output_type": "execute_result"
    }
   ],
   "source": [
    "a/b"
   ]
  },
  {
   "cell_type": "code",
   "execution_count": 23,
   "metadata": {},
   "outputs": [
    {
     "name": "stdout",
     "output_type": "stream",
     "text": [
      "[[1 2]\n",
      " [3 4]\n",
      " [5 6]]\n"
     ]
    }
   ],
   "source": [
    "c = [[[1,2], [3,4], [5, 6]]]\n",
    "c = np.asarray(c)\n",
    "for i in c:\n",
    "    print(i)"
   ]
  },
  {
   "cell_type": "code",
   "execution_count": 24,
   "metadata": {},
   "outputs": [],
   "source": [
    "d = np.asarray(c)"
   ]
  },
  {
   "cell_type": "code",
   "execution_count": 25,
   "metadata": {},
   "outputs": [
    {
     "data": {
      "text/plain": [
       "(1, 3, 2)"
      ]
     },
     "execution_count": 25,
     "metadata": {},
     "output_type": "execute_result"
    }
   ],
   "source": [
    "d.shape"
   ]
  },
  {
   "cell_type": "code",
   "execution_count": 1,
   "metadata": {},
   "outputs": [],
   "source": [
    "import numpy as np\n",
    "a = np.zeros((2, 3))\n",
    "b = np.array([0, 99])\n"
   ]
  },
  {
   "cell_type": "code",
   "execution_count": 153,
   "metadata": {},
   "outputs": [
    {
     "data": {
      "text/plain": [
       "array([[-0.70089287, -0.02873069],\n",
       "       [ 1.        , -0.15671971],\n",
       "       [ 0.02213162, -1.43482794]])"
      ]
     },
     "execution_count": 153,
     "metadata": {},
     "output_type": "execute_result"
    }
   ],
   "source": [
    "a[b > 0.5, 0] = 1\n",
    "a"
   ]
  },
  {
   "cell_type": "code",
   "execution_count": 186,
   "metadata": {},
   "outputs": [],
   "source": [
    "a = [[0, 1, 0, 0, 0], [1, 1, 1, 1, 1]]"
   ]
  },
  {
   "cell_type": "code",
   "execution_count": 188,
   "metadata": {},
   "outputs": [
    {
     "data": {
      "text/plain": [
       "1"
      ]
     },
     "execution_count": 188,
     "metadata": {},
     "output_type": "execute_result"
    }
   ],
   "source": [
    "a[0].index(1)"
   ]
  },
  {
   "cell_type": "code",
   "execution_count": 183,
   "metadata": {},
   "outputs": [
    {
     "data": {
      "text/plain": [
       "(array([0, 1, 1, 1, 1, 1]), array([1, 0, 1, 2, 3, 4]))"
      ]
     },
     "execution_count": 183,
     "metadata": {},
     "output_type": "execute_result"
    }
   ],
   "source": [
    "b = np.where(a==1)\n",
    "b"
   ]
  },
  {
   "cell_type": "code",
   "execution_count": 103,
   "metadata": {},
   "outputs": [],
   "source": [
    "import librosa\n",
    "\n",
    "n = np.random.rand(64, 40, 3200)"
   ]
  },
  {
   "cell_type": "code",
   "execution_count": 104,
   "metadata": {},
   "outputs": [],
   "source": [
    "stds = np.std(n, axis=2)"
   ]
  },
  {
   "cell_type": "code",
   "execution_count": 106,
   "metadata": {},
   "outputs": [],
   "source": [
    "mean = np.mean(stds, axis=1).reshape(64, 1)\n",
    "min = np.min(stds, axis=1).reshape(64, 1)\n"
   ]
  },
  {
   "cell_type": "code",
   "execution_count": 107,
   "metadata": {},
   "outputs": [
    {
     "data": {
      "text/plain": [
       "(64, 40)"
      ]
     },
     "execution_count": 107,
     "metadata": {},
     "output_type": "execute_result"
    }
   ],
   "source": [
    "t = (stds - mean) / (mean - min)\n",
    "t.shape"
   ]
  },
  {
   "cell_type": "code",
   "execution_count": 110,
   "metadata": {},
   "outputs": [
    {
     "data": {
      "text/plain": [
       "(64, 40)"
      ]
     },
     "execution_count": 110,
     "metadata": {},
     "output_type": "execute_result"
    }
   ],
   "source": [
    "vars = t**2\n",
    "vars.shape"
   ]
  },
  {
   "cell_type": "code",
   "execution_count": 148,
   "metadata": {},
   "outputs": [],
   "source": [
    "preds = np.zeros((64, 40, 4))"
   ]
  },
  {
   "cell_type": "code",
   "execution_count": 149,
   "metadata": {},
   "outputs": [],
   "source": [
    "preds[vars < 0.5, 0] = 1"
   ]
  },
  {
   "cell_type": "code",
   "execution_count": 151,
   "metadata": {},
   "outputs": [
    {
     "data": {
      "text/plain": [
       "(64, 40, 4)"
      ]
     },
     "execution_count": 151,
     "metadata": {},
     "output_type": "execute_result"
    }
   ],
   "source": [
    "preds.shape"
   ]
  },
  {
   "cell_type": "code",
   "execution_count": 150,
   "metadata": {},
   "outputs": [
    {
     "data": {
      "text/plain": [
       "2189"
      ]
     },
     "execution_count": 150,
     "metadata": {},
     "output_type": "execute_result"
    }
   ],
   "source": [
    "np.count_nonzero(preds)"
   ]
  },
  {
   "cell_type": "code",
   "execution_count": 135,
   "metadata": {},
   "outputs": [],
   "source": [
    "rms = np.sqrt(np.sum(noise**2, axis=1)/3200)"
   ]
  },
  {
   "cell_type": "code",
   "execution_count": 136,
   "metadata": {},
   "outputs": [
    {
     "data": {
      "text/plain": [
       "(2189,)"
      ]
     },
     "execution_count": 136,
     "metadata": {},
     "output_type": "execute_result"
    }
   ],
   "source": [
    "rms.shape"
   ]
  },
  {
   "cell_type": "code",
   "execution_count": 146,
   "metadata": {},
   "outputs": [],
   "source": [
    "a2 = np.array([rms, rms])"
   ]
  },
  {
   "cell_type": "code",
   "execution_count": 147,
   "metadata": {},
   "outputs": [
    {
     "data": {
      "text/plain": [
       "(2, 2189)"
      ]
     },
     "execution_count": 147,
     "metadata": {},
     "output_type": "execute_result"
    }
   ],
   "source": [
    "a2.shape"
   ]
  },
  {
   "cell_type": "code",
   "execution_count": null,
   "metadata": {},
   "outputs": [],
   "source": []
  }
 ],
 "metadata": {
  "kernelspec": {
   "display_name": "global",
   "language": "python",
   "name": "global"
  },
  "language_info": {
   "codemirror_mode": {
    "name": "ipython",
    "version": 3
   },
   "file_extension": ".py",
   "mimetype": "text/x-python",
   "name": "python",
   "nbconvert_exporter": "python",
   "pygments_lexer": "ipython3",
   "version": "3.8.5"
  }
 },
 "nbformat": 4,
 "nbformat_minor": 2
}
